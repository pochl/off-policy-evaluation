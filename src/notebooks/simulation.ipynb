{
 "cells": [
  {
   "cell_type": "code",
   "execution_count": 379,
   "metadata": {},
   "outputs": [],
   "source": [
    "# implementing OPE of the IPWLearner using synthetic bandit data\n",
    "from sklearn.linear_model import LogisticRegression\n",
    "# import open bandit pipeline (obp)\n",
    "from obp.dataset import SyntheticBanditDataset, logistic_reward_function\n",
    "from obp.policy import IPWLearner\n",
    "from obp.ope import (\n",
    "    OffPolicyEvaluation,\n",
    "    RegressionModel,\n",
    "    InverseProbabilityWeighting as IPW,\n",
    "    DirectMethod as DM,\n",
    "    DoublyRobust as DR,\n",
    "    ReplayMethod as RM,\n",
    "    SelfNormalizedInverseProbabilityWeighting as SNIP\n",
    ")\n",
    "\n",
    "from src.custom_estimators import (\n",
    "    NaiveMethod as NW,\n",
    "    ReplayProbabilistic as RP,\n",
    "    MAP\n",
    ")\n",
    "\n",
    "\n",
    "import numpy as np\n",
    "from copy import deepcopy\n",
    "\n",
    "import matplotlib.pyplot as plt\n",
    "import pandas as pd\n",
    "import random \n",
    "\n",
    "from typing import Iterable\n",
    "\n",
    "\n",
    "from src.libs.dataclass import DataClass\n",
    "from src.libs.preprocessors import IDEncoder, random_split\n",
    "from src.models.contentbased import CBF"
   ]
  },
  {
   "cell_type": "code",
   "execution_count": 2,
   "metadata": {},
   "outputs": [],
   "source": [
    "def index_of_n_true(bool_array, n):\n",
    "\n",
    "    true_indices = np.where(bool_array)[0]\n",
    "\n",
    "    if n <= len(true_indices):\n",
    "        return true_indices[n - 1]"
   ]
  },
  {
   "cell_type": "code",
   "execution_count": 167,
   "metadata": {},
   "outputs": [],
   "source": [
    "n_items = 1000\n",
    "n_users = 100\n",
    "dim_user_emd = 128\n",
    "dim_item_emd = 128\n",
    "reward_type = \"binary\", \n",
    "reward_function = logistic_reward_function\n",
    "\n",
    "n_like_explore = 10"
   ]
  },
  {
   "cell_type": "code",
   "execution_count": 168,
   "metadata": {},
   "outputs": [],
   "source": [
    "np.random.seed(1)\n",
    "items_emd_true = np.random.normal(size=(n_items, dim_item_emd))\n",
    "users_emd_true = np.random.normal(size=(n_users, dim_user_emd))"
   ]
  },
  {
   "cell_type": "code",
   "execution_count": 169,
   "metadata": {},
   "outputs": [],
   "source": [
    "dataset = SyntheticBanditDataset(n_actions=n_items, \n",
    "                                 dim_context=dim_user_emd,\n",
    "                                 action_context=items_emd_true,\n",
    "                                 reward_type=\"binary\", \n",
    "                                 reward_function=logistic_reward_function,\n",
    "                                 random_state=2)"
   ]
  },
  {
   "cell_type": "code",
   "execution_count": 170,
   "metadata": {},
   "outputs": [],
   "source": [
    "true_reward_deterministic = np.array([dataset.sample_reward(users_emd_true, np.repeat(i, n_users)) for i in range(n_items)]).T"
   ]
  },
  {
   "cell_type": "code",
   "execution_count": 420,
   "metadata": {},
   "outputs": [
    {
     "data": {
      "text/plain": [
       "0.48328"
      ]
     },
     "execution_count": 420,
     "metadata": {},
     "output_type": "execute_result"
    }
   ],
   "source": [
    "true_reward_deterministic.mean()"
   ]
  },
  {
   "cell_type": "code",
   "execution_count": 171,
   "metadata": {},
   "outputs": [],
   "source": [
    "ranks = np.array([random.sample(list(range(n_items)), n_items) for u in range(n_users)])\n",
    "reorder = true_reward_deterministic[np.arange(true_reward_deterministic.shape[0])[:, np.newaxis], ranks]"
   ]
  },
  {
   "cell_type": "code",
   "execution_count": 172,
   "metadata": {},
   "outputs": [],
   "source": [
    "feedback_uniform = np.full((n_users, n_items), np.nan)\n"
   ]
  },
  {
   "cell_type": "code",
   "execution_count": 173,
   "metadata": {},
   "outputs": [],
   "source": [
    "for i in range(n_users):\n",
    "    idx = index_of_n_true(reorder[i]==1, n_like_explore)\n",
    "    rec_items = ranks[i][:idx+1]\n",
    "    rewards = reorder[i][:idx+1]\n",
    "\n",
    "    feedback_uniform[i, rec_items] = rewards"
   ]
  },
  {
   "cell_type": "code",
   "execution_count": 315,
   "metadata": {},
   "outputs": [],
   "source": [
    "feedback_uniform_df = pd.DataFrame(columns=['user_id', 'item_id', 'feedback'])\n",
    "\n",
    "feedback_uniform_df[['user_id', 'item_id']] = list(zip(*np.where(feedback_uniform==0))) + list(zip(*np.where(feedback_uniform==1)))\n",
    "feedback_uniform_df['feedback'] = [0] * len(np.where(feedback_uniform==0)[0]) + [1] * len(np.where(feedback_uniform==1)[0])"
   ]
  },
  {
   "cell_type": "code",
   "execution_count": 414,
   "metadata": {},
   "outputs": [],
   "source": [
    "# Genrate Observed user / item features\n",
    "\n",
    "feature_obs_dim = 32\n",
    "\n",
    "np.random.seed(42)\n",
    "noise_level = 100000\n",
    "items_emd_obs = items_emd_true[:, :feature_obs_dim] + np.random.normal(scale=noise_level, size=items_emd_true[:, :feature_obs_dim].shape)\n",
    "users_emd_obs = users_emd_true[:, :feature_obs_dim] + np.random.normal(scale=noise_level, size=users_emd_true[:, :feature_obs_dim].shape)\n",
    "\n",
    "items_emd_obs_df = pd.DataFrame(items_emd_obs, columns=[f'emd_{i}' for i in range(feature_obs_dim)])\n",
    "items_emd_obs_df = items_emd_obs_df.rename_axis('item_id').reset_index()\n",
    "\n",
    "users_emd_obs_df = pd.DataFrame(users_emd_obs, columns=[f'emd_{i}' for i in range(feature_obs_dim)])\n",
    "users_emd_obs_df = users_emd_obs_df.rename_axis('user_id').reset_index()\n",
    "\n",
    "data_full = DataClass(feedback_uniform_df, users_emd_obs_df, items_emd_obs_df)\n",
    "\n",
    "# Train Test Split \n",
    "data_train, data_test = random_split(data_full)\n"
   ]
  },
  {
   "cell_type": "code",
   "execution_count": 343,
   "metadata": {},
   "outputs": [],
   "source": [
    "enc = IDEncoder()\n",
    "\n",
    "data_train_enc = enc.fit_transform(data=data_train)\n",
    "data_test_enc = enc.transform(data=data_test)"
   ]
  },
  {
   "cell_type": "code",
   "execution_count": 346,
   "metadata": {},
   "outputs": [
    {
     "data": {
      "text/plain": [
       "array([1, 2, 3])"
      ]
     },
     "execution_count": 346,
     "metadata": {},
     "output_type": "execute_result"
    }
   ],
   "source": [
    "enc.transform([1,2,3])"
   ]
  },
  {
   "cell_type": "code",
   "execution_count": 400,
   "metadata": {},
   "outputs": [],
   "source": [
    "from scipy import sparse\n",
    "from implicit.als import AlternatingLeastSquares\n",
    "\n",
    "\n",
    "class ALS:\n",
    "\n",
    "    def __init__(self, n_factors=32) -> None:\n",
    "\n",
    "        self.n_factors = n_factors\n",
    "\n",
    "        self.id_encoder = IDEncoder()\n",
    "\n",
    "        self._model = AlternatingLeastSquares(\n",
    "            factors=self.n_factors,\n",
    "            random_state=42,\n",
    "        )\n",
    "\n",
    "    def _preprocess(self, data: DataClass) -> sparse.csr_matrix:\n",
    "        \"\"\"Applies all filters and sampling methods for training set.\n",
    "\n",
    "        Args:\n",
    "            data (pyspark.sql.dataframe.DataFrame): Master dataframe of transactions which also includes users and\n",
    "                items' attributes.\n",
    "\n",
    "        Returns:\n",
    "            sparse.csr_matrix: Confidence matrix where each row is each user, and each column is each item.\n",
    "        \"\"\"\n",
    "\n",
    "        data_enc = self.id_encoder.fit_transform(data)\n",
    "        self.seen_items = data_enc.interactions.groupby('user_id')['item_id'].agg(list).sort_index().values.tolist()\n",
    "    \n",
    "        feedback_sprs = sparse.csr_matrix((data_enc.interactions['feedback'], \n",
    "                                         (data_enc.interactions['user_id'], data_enc.interactions['item_id'])\n",
    "                                         ))\n",
    "\n",
    "        return feedback_sprs\n",
    "    \n",
    "\n",
    "    def fit(self, data: DataClass):\n",
    "        \n",
    "\n",
    "        self._feedback_sprs = self._preprocess(data)\n",
    "        self._model.fit(self._feedback_sprs)\n",
    "        \n",
    "    \n",
    "    def recommend(self, user_id=None, top_n=20):\n",
    "        \n",
    "        user_items = self._feedback_sprs\n",
    "        \n",
    "        user_idx = self._process_user_id(user_id)\n",
    "\n",
    "        recs, scores = self._model.recommend(\n",
    "            userid=user_idx,\n",
    "            user_items=user_items,\n",
    "            N=top_n,\n",
    "            filter_already_liked_items=True,\n",
    "        )\n",
    "\n",
    "        return recs #, scores\n",
    "    \n",
    "    def _process_user_id(self, user_id):\n",
    "\n",
    "        if user_id is not None:\n",
    "            if isinstance(user_id, Iterable):\n",
    "                user_idx = self.id_encoder.user_encoder.transform(user_id)\n",
    "            else:\n",
    "                user_idx = np.array([user_idx])\n",
    "        else:\n",
    "            user_idx = np.array(range(len(self.id_encoder.user_encoder.categories_[0])))\n",
    "\n",
    "        return user_idx\n"
   ]
  },
  {
   "cell_type": "code",
   "execution_count": 401,
   "metadata": {},
   "outputs": [
    {
     "name": "stderr",
     "output_type": "stream",
     "text": [
      "100%|██████████| 15/15 [00:00<00:00, 194.56it/s]\n"
     ]
    }
   ],
   "source": [
    "als = ALS()\n",
    "als.fit(data=data_train)\n"
   ]
  },
  {
   "cell_type": "code",
   "execution_count": 404,
   "metadata": {},
   "outputs": [],
   "source": [
    "rec_items_pi1 = als.recommend()"
   ]
  },
  {
   "cell_type": "code",
   "execution_count": 405,
   "metadata": {},
   "outputs": [
    {
     "data": {
      "text/plain": [
       "0.4905"
      ]
     },
     "execution_count": 405,
     "metadata": {},
     "output_type": "execute_result"
    }
   ],
   "source": [
    "reward_pi1 = true_reward_deterministic[np.tile(np.arange(n_users), (rec_items_pi1.shape[1],1)).T, rec_items_pi1]\n",
    "reward_pi1.mean()"
   ]
  },
  {
   "cell_type": "code",
   "execution_count": 415,
   "metadata": {},
   "outputs": [],
   "source": [
    "model = CBF()\n",
    "model.fit(data_train)\n",
    "rec_items_pi0 = model.recommend(top_n=20)"
   ]
  },
  {
   "cell_type": "code",
   "execution_count": 416,
   "metadata": {},
   "outputs": [],
   "source": [
    "reward_pi0 = true_reward_deterministic[np.tile(np.arange(n_users), (rec_items_pi0.shape[1],1)).T, rec_items_pi0]"
   ]
  },
  {
   "cell_type": "code",
   "execution_count": 417,
   "metadata": {},
   "outputs": [
    {
     "data": {
      "text/plain": [
       "0.488"
      ]
     },
     "execution_count": 417,
     "metadata": {},
     "output_type": "execute_result"
    }
   ],
   "source": [
    "reward_pi0.mean()"
   ]
  },
  {
   "cell_type": "code",
   "execution_count": 66,
   "metadata": {},
   "outputs": [],
   "source": [
    "numberOfPorts = 3\n",
    "transmissionTIme = 2\n",
    "packetIds = [4, 7, 10, 6]\n",
    "\n",
    "\n"
   ]
  },
  {
   "cell_type": "code",
   "execution_count": 72,
   "metadata": {},
   "outputs": [],
   "source": [
    "def sentTimes(numberOfPorts, transmissionTIme, packetIds):\n",
    "\n",
    "    org_dest = np.array(packetIds) % numberOfPorts  # Array of original destination\n",
    "    port_finish_time = {i: 1 for i in range(numberOfPorts)}  # Dictionary to keep track of each port's finish time\n",
    "                                                             # Initialize all at 1 because 1st packet arrives at t=1\n",
    "\n",
    "    final_dest = []  # List to contian final destinations of each packet.\n",
    "    for i, dest in enumerate(org_dest):\n",
    "        \n",
    "        arr_time = i + 1  # Arrival time of the packet\n",
    "\n",
    "        while True:\n",
    "            if port_finish_time[dest] <= arr_time:  # If port is free (finish time <= arrivial time)\n",
    "                final_dest.append(dest)  # Add this destination to the result\n",
    "                port_finish_time[dest] += transmissionTIme  # Add new finish time to the port\n",
    "                break\n",
    "            else:  # If port is not free\n",
    "                dest = (dest + 1) % numberOfPorts  # Send to next port\n",
    "\n",
    "    return final_dest"
   ]
  },
  {
   "cell_type": "code",
   "execution_count": 73,
   "metadata": {},
   "outputs": [
    {
     "data": {
      "text/plain": [
       "[1, 2, 1, 0]"
      ]
     },
     "execution_count": 73,
     "metadata": {},
     "output_type": "execute_result"
    }
   ],
   "source": [
    "numberOfPorts = 3\n",
    "transmissionTIme = 2\n",
    "packetIds = [4, 7, 10, 6]\n",
    "\n",
    "sentTimes(numberOfPorts, transmissionTIme, packetIds)"
   ]
  },
  {
   "cell_type": "code",
   "execution_count": 65,
   "metadata": {},
   "outputs": [],
   "source": [
    "while False:\n",
    "    print(1)"
   ]
  },
  {
   "cell_type": "code",
   "execution_count": 71,
   "metadata": {},
   "outputs": [],
   "source": [
    "from sklearn.preprocessing import OneHotEncoder\n",
    "\n",
    "\n",
    "action_embed = np.array([\n",
    "    [.1,.2,.3],\n",
    "    [.2,.5,.6],\n",
    "    [.2,.5,.6],\n",
    "    [.2,.4,.6]\n",
    "])\n",
    "\n",
    "c = OneHotEncoder(\n",
    "            sparse=False,\n",
    "            drop=\"first\",\n",
    "        ).fit_transform(action_embed)"
   ]
  },
  {
   "cell_type": "code",
   "execution_count": 76,
   "metadata": {},
   "outputs": [
    {
     "name": "stderr",
     "output_type": "stream",
     "text": [
      "/Users/thepoch/opt/miniconda3/envs/ope/lib/python3.10/site-packages/sklearn/utils/validation.py:1111: DataConversionWarning: A column-vector y was passed when a 1d array was expected. Please change the shape of y to (n_samples, ), for example using ravel().\n",
      "  y = column_or_1d(y, warn=True)\n"
     ]
    },
    {
     "data": {
      "text/html": [
       "<style>#sk-container-id-2 {color: black;background-color: white;}#sk-container-id-2 pre{padding: 0;}#sk-container-id-2 div.sk-toggleable {background-color: white;}#sk-container-id-2 label.sk-toggleable__label {cursor: pointer;display: block;width: 100%;margin-bottom: 0;padding: 0.3em;box-sizing: border-box;text-align: center;}#sk-container-id-2 label.sk-toggleable__label-arrow:before {content: \"▸\";float: left;margin-right: 0.25em;color: #696969;}#sk-container-id-2 label.sk-toggleable__label-arrow:hover:before {color: black;}#sk-container-id-2 div.sk-estimator:hover label.sk-toggleable__label-arrow:before {color: black;}#sk-container-id-2 div.sk-toggleable__content {max-height: 0;max-width: 0;overflow: hidden;text-align: left;background-color: #f0f8ff;}#sk-container-id-2 div.sk-toggleable__content pre {margin: 0.2em;color: black;border-radius: 0.25em;background-color: #f0f8ff;}#sk-container-id-2 input.sk-toggleable__control:checked~div.sk-toggleable__content {max-height: 200px;max-width: 100%;overflow: auto;}#sk-container-id-2 input.sk-toggleable__control:checked~label.sk-toggleable__label-arrow:before {content: \"▾\";}#sk-container-id-2 div.sk-estimator input.sk-toggleable__control:checked~label.sk-toggleable__label {background-color: #d4ebff;}#sk-container-id-2 div.sk-label input.sk-toggleable__control:checked~label.sk-toggleable__label {background-color: #d4ebff;}#sk-container-id-2 input.sk-hidden--visually {border: 0;clip: rect(1px 1px 1px 1px);clip: rect(1px, 1px, 1px, 1px);height: 1px;margin: -1px;overflow: hidden;padding: 0;position: absolute;width: 1px;}#sk-container-id-2 div.sk-estimator {font-family: monospace;background-color: #f0f8ff;border: 1px dotted black;border-radius: 0.25em;box-sizing: border-box;margin-bottom: 0.5em;}#sk-container-id-2 div.sk-estimator:hover {background-color: #d4ebff;}#sk-container-id-2 div.sk-parallel-item::after {content: \"\";width: 100%;border-bottom: 1px solid gray;flex-grow: 1;}#sk-container-id-2 div.sk-label:hover label.sk-toggleable__label {background-color: #d4ebff;}#sk-container-id-2 div.sk-serial::before {content: \"\";position: absolute;border-left: 1px solid gray;box-sizing: border-box;top: 0;bottom: 0;left: 50%;z-index: 0;}#sk-container-id-2 div.sk-serial {display: flex;flex-direction: column;align-items: center;background-color: white;padding-right: 0.2em;padding-left: 0.2em;position: relative;}#sk-container-id-2 div.sk-item {position: relative;z-index: 1;}#sk-container-id-2 div.sk-parallel {display: flex;align-items: stretch;justify-content: center;background-color: white;position: relative;}#sk-container-id-2 div.sk-item::before, #sk-container-id-2 div.sk-parallel-item::before {content: \"\";position: absolute;border-left: 1px solid gray;box-sizing: border-box;top: 0;bottom: 0;left: 50%;z-index: -1;}#sk-container-id-2 div.sk-parallel-item {display: flex;flex-direction: column;z-index: 1;position: relative;background-color: white;}#sk-container-id-2 div.sk-parallel-item:first-child::after {align-self: flex-end;width: 50%;}#sk-container-id-2 div.sk-parallel-item:last-child::after {align-self: flex-start;width: 50%;}#sk-container-id-2 div.sk-parallel-item:only-child::after {width: 0;}#sk-container-id-2 div.sk-dashed-wrapped {border: 1px dashed gray;margin: 0 0.4em 0.5em 0.4em;box-sizing: border-box;padding-bottom: 0.4em;background-color: white;}#sk-container-id-2 div.sk-label label {font-family: monospace;font-weight: bold;display: inline-block;line-height: 1.2em;}#sk-container-id-2 div.sk-label-container {text-align: center;}#sk-container-id-2 div.sk-container {/* jupyter's `normalize.less` sets `[hidden] { display: none; }` but bootstrap.min.css set `[hidden] { display: none !important; }` so we also need the `!important` here to be able to override the default hidden behavior on the sphinx rendered scikit-learn.org. See: https://github.com/scikit-learn/scikit-learn/issues/21755 */display: inline-block !important;position: relative;}#sk-container-id-2 div.sk-text-repr-fallback {display: none;}</style><div id=\"sk-container-id-2\" class=\"sk-top-container\"><div class=\"sk-text-repr-fallback\"><pre>LogisticRegression()</pre><b>In a Jupyter environment, please rerun this cell to show the HTML representation or trust the notebook. <br />On GitHub, the HTML representation is unable to render, please try loading this page with nbviewer.org.</b></div><div class=\"sk-container\" hidden><div class=\"sk-item\"><div class=\"sk-estimator sk-toggleable\"><input class=\"sk-toggleable__control sk-hidden--visually\" id=\"sk-estimator-id-2\" type=\"checkbox\" checked><label for=\"sk-estimator-id-2\" class=\"sk-toggleable__label sk-toggleable__label-arrow\">LogisticRegression</label><div class=\"sk-toggleable__content\"><pre>LogisticRegression()</pre></div></div></div></div></div>"
      ],
      "text/plain": [
       "LogisticRegression()"
      ]
     },
     "execution_count": 76,
     "metadata": {},
     "output_type": "execute_result"
    }
   ],
   "source": [
    "from sklearn.linear_model import LogisticRegression\n",
    "\n",
    "model = LogisticRegression()\n",
    "\n",
    "x = np.array([\n",
    "    [.1,.2,.3],\n",
    "    [.2,.5,.6],\n",
    "    [.2,.5,.6],\n",
    "    [.2,.4,.6]\n",
    "])\n",
    "\n",
    "a = np.array([[0],[1],[2],[3]])\n",
    "\n",
    "model.fit(x,a)"
   ]
  },
  {
   "cell_type": "code",
   "execution_count": 78,
   "metadata": {},
   "outputs": [
    {
     "data": {
      "text/plain": [
       "array([[0.27373277, 0.24051313, 0.24051313, 0.24524097],\n",
       "       [0.24050587, 0.2539727 , 0.2539727 , 0.25154873],\n",
       "       [0.24050587, 0.2539727 , 0.2539727 , 0.25154873],\n",
       "       [0.24524816, 0.25156219, 0.25156219, 0.25162747]])"
      ]
     },
     "execution_count": 78,
     "metadata": {},
     "output_type": "execute_result"
    }
   ],
   "source": [
    "model.predict_proba(x)"
   ]
  },
  {
   "cell_type": "code",
   "execution_count": null,
   "metadata": {},
   "outputs": [],
   "source": []
  }
 ],
 "metadata": {
  "kernelspec": {
   "display_name": "ope",
   "language": "python",
   "name": "python3"
  },
  "language_info": {
   "codemirror_mode": {
    "name": "ipython",
    "version": 3
   },
   "file_extension": ".py",
   "mimetype": "text/x-python",
   "name": "python",
   "nbconvert_exporter": "python",
   "pygments_lexer": "ipython3",
   "version": "3.10.11"
  },
  "orig_nbformat": 4
 },
 "nbformat": 4,
 "nbformat_minor": 2
}
