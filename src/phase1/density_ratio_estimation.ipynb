{
 "cells": [
  {
   "cell_type": "code",
   "execution_count": 283,
   "metadata": {},
   "outputs": [],
   "source": [
    "from logging import getLogger\n",
    "from pathlib import Path\n",
    "from time import time\n",
    "import warnings\n",
    "from tqdm import tqdm \n",
    "import sys\n",
    "\n",
    "import numpy as np\n",
    "from obp.dataset import linear_reward_function, logistic_reward_function\n",
    "from obp.dataset import SyntheticBanditDatasetWithActionEmbeds\n",
    "from obp.ope import RegressionModel\n",
    "from obp.ope import OffPolicyEvaluation\n",
    "from obp.ope import InverseProbabilityWeighting as IPS\n",
    "from obp.ope import BalancedInverseProbabilityWeighting as BIPW\n",
    "from omegaconf import DictConfig\n",
    "from ope import run_ope\n",
    "import pandas as pd\n",
    "from pandas import DataFrame\n",
    "from plots import plot_line\n",
    "from policy import gen_eps_greedy\n",
    "from sklearn.ensemble import RandomForestRegressor\n",
    "from sklearn.exceptions import ConvergenceWarning\n",
    "\n",
    "from src.utils import read_yaml\n",
    "import matplotlib.pyplot as plt"
   ]
  },
  {
   "cell_type": "code",
   "execution_count": 296,
   "metadata": {},
   "outputs": [],
   "source": [
    "n_rounds = 20000\n",
    "n_actions = 1000\n",
    "dim_context= 10\n",
    "beta = -1\n",
    "n_cat_per_dim = 10\n",
    "latent_param_mat_dim = 5\n",
    "n_cat_dim = latent_param_mat_dim\n",
    "n_unobserved_cat_dim = 0\n",
    "n_def_actions = 0\n",
    "reward_std = 2.5\n",
    "random_state = 1\n",
    "\n",
    "is_optimal = True\n",
    "eps = 0 #0.05"
   ]
  },
  {
   "cell_type": "code",
   "execution_count": 297,
   "metadata": {},
   "outputs": [],
   "source": [
    "dataset = SyntheticBanditDatasetWithActionEmbeds(\n",
    "    n_actions=n_actions,\n",
    "    dim_context=dim_context,\n",
    "    beta=beta,\n",
    "    reward_type=\"binary\",\n",
    "    n_cat_per_dim=n_cat_per_dim,\n",
    "    latent_param_mat_dim=latent_param_mat_dim,\n",
    "    n_cat_dim=n_cat_dim,\n",
    "    n_unobserved_cat_dim=n_unobserved_cat_dim,\n",
    "    n_deficient_actions=n_actions*n_def_actions,\n",
    "    reward_function=logistic_reward_function,\n",
    "    reward_std=reward_std,\n",
    "    random_state=random_state,\n",
    ")\n",
    "\n",
    "### test bandit data is used to approximate the ground-truth policy value\n",
    "bandit_data = dataset.obtain_batch_bandit_feedback(\n",
    "    n_rounds=n_rounds\n",
    ")\n",
    "\n",
    "## make decisions on validation data\n",
    "action_dist = gen_eps_greedy(\n",
    "    expected_reward=bandit_data[\"expected_reward\"],\n",
    "    is_optimal=is_optimal,\n",
    "    eps=eps,\n",
    ")"
   ]
  },
  {
   "cell_type": "code",
   "execution_count": 298,
   "metadata": {},
   "outputs": [],
   "source": [
    "from obp.ope import ImportanceWeightEstimator\n",
    "from sklearn.linear_model import LogisticRegression\n",
    "from sklearn.ensemble import RandomForestClassifier\n",
    "from sklearn.svm import SVC\n",
    "from sklearn.neural_network import MLPClassifier\n",
    "\n",
    "from sklearn.preprocessing import StandardScaler\n",
    "scaler = StandardScaler()\n",
    "action_context_t = scaler.fit_transform(bandit_data[\"action_context\"])\n",
    "\n",
    "model = MLPClassifier(hidden_layer_sizes=(64,32,32,16), activation='relu', max_iter=400)\n",
    "iw_estimator = ImportanceWeightEstimator(base_model=model, #(32,32)),\n",
    "                                             n_actions=bandit_data[\"n_actions\"], \n",
    "                                             action_context=action_context_t)\n",
    "    \n",
    "imp_weights = iw_estimator.fit_predict(context=bandit_data[\"context\"],\n",
    "                                        action=bandit_data[\"action\"],\n",
    "                                        action_dist=action_dist,\n",
    "                                        random_state=random_state,\n",
    "                                        evaluate_model_performance=True)\n",
    "\n",
    "imp_weights = imp_weights / imp_weights.mean()\n",
    "\n",
    "# iw_estimator.fit(\n",
    "#     context=bandit_data[\"context\"],\n",
    "#     action=bandit_data[\"action\"], \n",
    "#     action_dist=action_dist\n",
    "# )"
   ]
  },
  {
   "cell_type": "code",
   "execution_count": 133,
   "metadata": {},
   "outputs": [],
   "source": [
    "# imp_weights = iw_estimator.predict(context=bandit_data[\"context\"],\n",
    "#                     action=bandit_data[\"action\"]\n",
    "#                     )"
   ]
  },
  {
   "cell_type": "code",
   "execution_count": 148,
   "metadata": {},
   "outputs": [
    {
     "data": {
      "text/plain": [
       "1.1425811116339337"
      ]
     },
     "execution_count": 148,
     "metadata": {},
     "output_type": "execute_result"
    }
   ],
   "source": [
    "imp_weights[bandit_data['reward'].astype(bool)].mean()"
   ]
  },
  {
   "cell_type": "code",
   "execution_count": null,
   "metadata": {},
   "outputs": [
    {
     "data": {
      "text/plain": [
       "0.17182061899969098"
      ]
     },
     "execution_count": 172,
     "metadata": {},
     "output_type": "execute_result"
    }
   ],
   "source": [
    "((imp_weights) * bandit_data['reward']).mean()"
   ]
  },
  {
   "cell_type": "code",
   "execution_count": null,
   "metadata": {},
   "outputs": [
    {
     "data": {
      "text/plain": [
       "array([0.05724309, 0.05724309, 0.05724309, ..., 0.05871976, 2.17523651,\n",
       "       0.05724309])"
      ]
     },
     "execution_count": 189,
     "metadata": {},
     "output_type": "execute_result"
    }
   ],
   "source": [
    "imp_weights"
   ]
  },
  {
   "cell_type": "code",
   "execution_count": null,
   "metadata": {},
   "outputs": [
    {
     "data": {
      "text/plain": [
       "0.5073869302528337"
      ]
     },
     "execution_count": 187,
     "metadata": {},
     "output_type": "execute_result"
    }
   ],
   "source": [
    "proba_eval_policy = iw_estimator.base_model_list[0].predict_proba(X)[:10000,1]\n",
    "iw = (proba_eval_policy / (1 - proba_eval_policy))\n",
    "iw[bandit_data['reward'].astype(bool)].mean()"
   ]
  },
  {
   "cell_type": "code",
   "execution_count": null,
   "metadata": {},
   "outputs": [
    {
     "data": {
      "text/plain": [
       "array([0.05414374, 0.05414374, 0.05414374, ..., 0.05546299, 0.68506283,\n",
       "       0.05414374])"
      ]
     },
     "execution_count": 188,
     "metadata": {},
     "output_type": "execute_result"
    }
   ],
   "source": [
    "proba_eval_policy"
   ]
  },
  {
   "cell_type": "code",
   "execution_count": null,
   "metadata": {},
   "outputs": [
    {
     "data": {
      "text/plain": [
       "array([0.84810605, 0.89958812, 0.82600585, ..., 0.83755995, 0.68506283,\n",
       "       0.90073826])"
      ]
     },
     "execution_count": 183,
     "metadata": {},
     "output_type": "execute_result"
    }
   ],
   "source": [
    "proba_eval_policy[proba_eval_policy > 0.5]"
   ]
  },
  {
   "cell_type": "code",
   "execution_count": 299,
   "metadata": {},
   "outputs": [],
   "source": [
    "from obp.utils import sample_action_fast\n",
    "\n",
    "position = np.zeros_like(bandit_data[\"action\"])\n",
    "n = bandit_data[\"context\"].shape[0]\n",
    "\n",
    "sampled_action = np.zeros(n, dtype=int)\n",
    "if iw_estimator.fitting_method == \"sample\":\n",
    "    for pos_ in np.arange(iw_estimator.len_list):\n",
    "        idx = position == pos_\n",
    "        sampled_action_at_position = sample_action_fast(\n",
    "            action_dist=action_dist[idx][:, :, pos_],\n",
    "            random_state=1234,\n",
    "        )\n",
    "        sampled_action[idx] = sampled_action_at_position\n",
    "\n",
    "for pos_ in np.arange(iw_estimator.len_list):\n",
    "    idx = position == pos_\n",
    "    action_dist_at_pos = action_dist[idx][:, :, pos_]\n",
    "    X, y = iw_estimator._pre_process_for_clf_model(\n",
    "        context=bandit_data[\"context\"][idx],\n",
    "        action=bandit_data[\"action\"][idx],\n",
    "        action_dist_at_pos=action_dist_at_pos,\n",
    "        sampled_action_at_position=sampled_action[idx],\n",
    "    )\n",
    "\n",
    "X1 = X[:n_rounds]\n",
    "X2 = X[n_rounds:]"
   ]
  },
  {
   "cell_type": "code",
   "execution_count": 306,
   "metadata": {},
   "outputs": [
    {
     "name": "stdout",
     "output_type": "stream",
     "text": [
      "RuLSIF starting...\n",
      "Searching for the optimal sigma and lambda...\n",
      "sigma = 0.10000, lambda = 0.01000, score = -0.00000\n",
      "sigma = 0.10000, lambda = 0.02000, score = -0.00000\n",
      "sigma = 0.10000, lambda = 0.03000, score = -0.00000\n",
      "sigma = 0.10000, lambda = 0.04000, score = -0.00000\n",
      "sigma = 0.10000, lambda = 0.05000, score = -0.00000\n",
      "sigma = 0.30000, lambda = 0.01000, score = -0.00000\n",
      "sigma = 0.30000, lambda = 0.02000, score = -0.00000\n",
      "sigma = 0.30000, lambda = 0.03000, score = -0.00000\n",
      "sigma = 0.30000, lambda = 0.04000, score = -0.00000\n",
      "sigma = 0.30000, lambda = 0.05000, score = -0.00000\n",
      "sigma = 0.50000, lambda = 0.01000, score = -0.00001\n",
      "sigma = 0.50000, lambda = 0.02000, score = -0.00000\n",
      "sigma = 0.50000, lambda = 0.03000, score = -0.00000\n",
      "sigma = 0.50000, lambda = 0.04000, score = -0.00000\n",
      "sigma = 0.50000, lambda = 0.05000, score = -0.00000\n",
      "sigma = 0.70000, lambda = 0.01000, score = -0.00021\n",
      "sigma = 0.70000, lambda = 0.02000, score = -0.00011\n",
      "sigma = 0.70000, lambda = 0.03000, score = -0.00007\n",
      "sigma = 0.70000, lambda = 0.04000, score = -0.00005\n",
      "sigma = 0.70000, lambda = 0.05000, score = -0.00004\n",
      "sigma = 1.00000, lambda = 0.01000, score = -0.02196\n",
      "sigma = 1.00000, lambda = 0.02000, score = -0.01103\n",
      "sigma = 1.00000, lambda = 0.03000, score = -0.00737\n",
      "sigma = 1.00000, lambda = 0.04000, score = -0.00553\n",
      "sigma = 1.00000, lambda = 0.05000, score = -0.00443\n",
      "Found optimal sigma = 1.000, lambda = 0.010.\n",
      "Optimizing theta...\n",
      "Approximate alpha-relative PE-divergence = -0.48\n",
      "Approximate alpha-relative KL-divergence = -5.29\n",
      "RuLSIF completed.\n"
     ]
    }
   ],
   "source": [
    "from densratio import densratio\n",
    "\n",
    "densratio_obj = densratio(X2, X1, alpha=0, sigma_range=[0.1, 0.3, 0.5, 0.7, 1], lambda_range=[0.01, 0.02, 0.03, 0.04, 0.05], verbose=True)\n",
    "# print(densratio_obj)"
   ]
  },
  {
   "cell_type": "code",
   "execution_count": 307,
   "metadata": {},
   "outputs": [],
   "source": [
    "imp_weights = densratio_obj.compute_density_ratio(X[:n_rounds])\n",
    "imp_weights = imp_weights / imp_weights.mean()"
   ]
  },
  {
   "cell_type": "code",
   "execution_count": 116,
   "metadata": {},
   "outputs": [
    {
     "data": {
      "text/plain": [
       "(array([  12.,  127.,  650., 1729., 2791., 2674., 1460.,  446.,  101.,\n",
       "          10.]),\n",
       " array([-3.66311141, -2.91185944, -2.16060747, -1.4093555 , -0.65810353,\n",
       "         0.09314844,  0.84440041,  1.59565238,  2.34690435,  3.09815632,\n",
       "         3.84940829]),\n",
       " <BarContainer object of 10 artists>)"
      ]
     },
     "execution_count": 116,
     "metadata": {},
     "output_type": "execute_result"
    },
    {
     "data": {
      "image/png": "[encoded data removed]",
      "text/plain": [
       "<Figure size 640x480 with 1 Axes>"
      ]
     },
     "metadata": {},
     "output_type": "display_data"
    }
   ],
   "source": [
    "dim = 0\n",
    "plt.hist(X[:10000, dim], alpha=0.5, weights=imp_weights)\n",
    "plt.hist(X[10000:, dim], alpha=0.5)"
   ]
  },
  {
   "cell_type": "code",
   "execution_count": null,
   "metadata": {},
   "outputs": [
    {
     "data": {
      "text/plain": [
       "array([[-0.82899501,  5.        ],\n",
       "       [-0.56018104,  5.        ],\n",
       "       [ 0.74729361,  2.        ],\n",
       "       ...,\n",
       "       [ 1.57458636,  5.        ],\n",
       "       [ 1.08648012,  2.        ],\n",
       "       [ 0.44575985,  2.        ]])"
      ]
     },
     "execution_count": 156,
     "metadata": {},
     "output_type": "execute_result"
    }
   ],
   "source": [
    "X[10000:]"
   ]
  },
  {
   "cell_type": "code",
   "execution_count": 268,
   "metadata": {},
   "outputs": [],
   "source": [
    "from sklearn.model_selection import cross_validate\n",
    "from sklearn.ensemble import RandomForestClassifier\n",
    "\n",
    "model = MLPClassifier(hidden_layer_sizes=(32,32,32), activation='relu', max_iter=400)\n",
    "# model = LogisticRegression()\n",
    "# model = RandomForestClassifier()\n",
    "\n",
    "cv_results = cross_validate(model, X, y, cv=3)"
   ]
  },
  {
   "cell_type": "code",
   "execution_count": 269,
   "metadata": {},
   "outputs": [
    {
     "data": {
      "text/plain": [
       "array([0.92095395, 0.91045448, 0.92649265])"
      ]
     },
     "execution_count": 269,
     "metadata": {},
     "output_type": "execute_result"
    }
   ],
   "source": [
    "cv_results['test_score']"
   ]
  },
  {
   "cell_type": "code",
   "execution_count": 143,
   "metadata": {},
   "outputs": [
    {
     "name": "stderr",
     "output_type": "stream",
     "text": [
      "/Users/thepoch/opt/miniconda3/envs/ope/lib/python3.10/site-packages/sklearn/neural_network/_multilayer_perceptron.py:702: ConvergenceWarning: Stochastic Optimizer: Maximum iterations (200) reached and the optimization hasn't converged yet.\n",
      "  warnings.warn(\n"
     ]
    },
    {
     "data": {
      "text/plain": [
       "0.96095"
      ]
     },
     "execution_count": 143,
     "metadata": {},
     "output_type": "execute_result"
    }
   ],
   "source": [
    "model = RandomForestClassifier()\n",
    "model = MLPClassifier()\n",
    "\n",
    "model.fit(X, y)\n",
    "\n",
    "y_pred = model.predict(X)\n",
    "sum(y_pred == y) / len(y)"
   ]
  },
  {
   "cell_type": "code",
   "execution_count": 144,
   "metadata": {},
   "outputs": [],
   "source": [
    "proba_eval_policy = model.predict_proba(X)[:, 1]"
   ]
  },
  {
   "cell_type": "code",
   "execution_count": null,
   "metadata": {},
   "outputs": [
    {
     "name": "stderr",
     "output_type": "stream",
     "text": [
      "/var/folders/kt/d510b2jj6vscmdv_qwvjcgp00000gn/T/ipykernel_50699/3836169021.py:1: RuntimeWarning: divide by zero encountered in divide\n",
      "  (proba_eval_policy / (1 - proba_eval_policy))\n"
     ]
    },
    {
     "data": {
      "text/plain": [
       "array([ 0.03092784,  0.17647059,  0.08695652, ...,  2.33333333,\n",
       "       13.28571429, 24.        ])"
      ]
     },
     "execution_count": 47,
     "metadata": {},
     "output_type": "execute_result"
    }
   ],
   "source": [
    "(proba_eval_policy / (1 - proba_eval_policy))"
   ]
  },
  {
   "cell_type": "code",
   "execution_count": null,
   "metadata": {},
   "outputs": [
    {
     "data": {
      "text/plain": [
       "14.061025601913098"
      ]
     },
     "execution_count": 51,
     "metadata": {},
     "output_type": "execute_result"
    }
   ],
   "source": [
    "a = proba_eval_policy[(proba_eval_policy < 1)]\n",
    "(a / (1-a)).mean()"
   ]
  },
  {
   "cell_type": "code",
   "execution_count": null,
   "metadata": {},
   "outputs": [
    {
     "data": {
      "text/plain": [
       "True"
      ]
     },
     "execution_count": 57,
     "metadata": {},
     "output_type": "execute_result"
    }
   ],
   "source": [
    "from sklearn.neural_network import MLPClassifier\n",
    "from sklearn.base import BaseEstimator\n",
    "\n",
    "isinstance(MLPClassifier(), BaseEstimator)"
   ]
  },
  {
   "cell_type": "code",
   "execution_count": 150,
   "metadata": {},
   "outputs": [],
   "source": [
    "from sklearn.preprocessing import StandardScaler\n",
    "\n",
    "scaler = StandardScaler()\n",
    "context_t = scaler.fit_transform(bandit_data[\"action_context\"])"
   ]
  },
  {
   "cell_type": "code",
   "execution_count": 151,
   "metadata": {},
   "outputs": [
    {
     "data": {
      "text/plain": [
       "(1000, 20)"
      ]
     },
     "execution_count": 151,
     "metadata": {},
     "output_type": "execute_result"
    }
   ],
   "source": [
    "context_t.shape"
   ]
  },
  {
   "cell_type": "code",
   "execution_count": 308,
   "metadata": {},
   "outputs": [],
   "source": [
    "from sklearn.neighbors import KernelDensity\n",
    "\n",
    "kde = KernelDensity(kernel='gaussian', bandwidth=0.5)\n",
    "\n",
    "kde.fit(X1, sample_weight=imp_weights)\n",
    "log_density = kde.score_samples(X1)\n",
    "prob1 = np.exp(log_density)\n",
    "#prob1 = prob1 / prob1.sum()\n",
    "\n",
    "kde = KernelDensity(kernel='gaussian', bandwidth=0.5)\n",
    "\n",
    "kde.fit(X2)\n",
    "log_density = kde.score_samples(X1)\n",
    "prob2 = np.exp(log_density)\n",
    "#prob2 = prob2 / prob2.sum()\n"
   ]
  },
  {
   "cell_type": "code",
   "execution_count": 309,
   "metadata": {},
   "outputs": [
    {
     "data": {
      "text/plain": [
       "2.521577506860904"
      ]
     },
     "execution_count": 309,
     "metadata": {},
     "output_type": "execute_result"
    }
   ],
   "source": [
    "entropy(prob1, prob2)"
   ]
  },
  {
   "cell_type": "code",
   "execution_count": 256,
   "metadata": {},
   "outputs": [
    {
     "data": {
      "text/plain": [
       "6.799121310305228"
      ]
     },
     "execution_count": 256,
     "metadata": {},
     "output_type": "execute_result"
    }
   ],
   "source": [
    "entropy(prob1, prob2)"
   ]
  },
  {
   "cell_type": "code",
   "execution_count": 194,
   "metadata": {},
   "outputs": [
    {
     "data": {
      "text/plain": [
       "0.005130973136501334"
      ]
     },
     "execution_count": 194,
     "metadata": {},
     "output_type": "execute_result"
    }
   ],
   "source": [
    "from scipy.special import kl_div, rel_entr\n",
    "from scipy.stats import entropy\n",
    "\n",
    "sum(rel_entr(prob1, prob2))"
   ]
  },
  {
   "cell_type": "code",
   "execution_count": 192,
   "metadata": {},
   "outputs": [
    {
     "data": {
      "text/plain": [
       "array([1.0105833 , 1.01323716, 0.98744396, ..., 0.98350465, 1.03824797,\n",
       "       0.98311687])"
      ]
     },
     "execution_count": 192,
     "metadata": {},
     "output_type": "execute_result"
    }
   ],
   "source": [
    "prob1"
   ]
  },
  {
   "cell_type": "code",
   "execution_count": 228,
   "metadata": {},
   "outputs": [
    {
     "data": {
      "image/png": "[encoded data removed]",
      "text/plain": [
       "<Figure size 640x480 with 1 Axes>"
      ]
     },
     "metadata": {},
     "output_type": "display_data"
    }
   ],
   "source": [
    "from scipy.stats import norm\n",
    "\n",
    "# Mean and standard deviation\n",
    "mu1 = 0  # mean\n",
    "mu2 = 6\n",
    "sigma = 1  # standard deviation\n",
    "\n",
    "# Create a range of x values\n",
    "x = np.linspace(mu1 - 3*sigma, mu2 + 3*sigma, 100)\n",
    "\n",
    "# Generate the density of the normal distribution\n",
    "pdf1 = norm.pdf(x, mu1, sigma)\n",
    "pdf2 = norm.pdf(x, mu2, sigma)\n",
    "\n",
    "# Plotting\n",
    "plt.plot(x, pdf1, label=f'$\\mu={mu1},\\ \\sigma={sigma}$')\n",
    "plt.plot(x, pdf2, label=f'$\\mu={mu2},\\ \\sigma={sigma}$')\n",
    "plt.title('Normal Distribution')\n",
    "plt.xlabel('x')\n",
    "plt.ylabel('Probability Density')\n",
    "plt.legend()\n",
    "plt.grid(True)\n",
    "plt.show()"
   ]
  },
  {
   "cell_type": "code",
   "execution_count": 229,
   "metadata": {},
   "outputs": [
    {
     "data": {
      "text/plain": [
       "17.97795924415429"
      ]
     },
     "execution_count": 229,
     "metadata": {},
     "output_type": "execute_result"
    }
   ],
   "source": [
    "entropy(pdf1, pdf2)"
   ]
  },
  {
   "cell_type": "code",
   "execution_count": 240,
   "metadata": {},
   "outputs": [
    {
     "data": {
      "text/plain": [
       "8"
      ]
     },
     "execution_count": 240,
     "metadata": {},
     "output_type": "execute_result"
    }
   ],
   "source": [
    "(X1[:, 10:] == X2[:, 10:]).prod(axis=1).sum()"
   ]
  },
  {
   "cell_type": "code",
   "execution_count": 238,
   "metadata": {},
   "outputs": [
    {
     "data": {
      "text/plain": [
       "array([ 756000.,  235200.,       0., ..., 6350400.,       0.,       0.])"
      ]
     },
     "execution_count": 238,
     "metadata": {},
     "output_type": "execute_result"
    }
   ],
   "source": [
    "X1[:, 10:].prod(axis=1)"
   ]
  },
  {
   "cell_type": "code",
   "execution_count": null,
   "metadata": {},
   "outputs": [],
   "source": []
  }
 ],
 "metadata": {
  "kernelspec": {
   "display_name": "ope",
   "language": "python",
   "name": "python3"
  },
  "language_info": {
   "codemirror_mode": {
    "name": "ipython",
    "version": 3
   },
   "file_extension": ".py",
   "mimetype": "text/x-python",
   "name": "python",
   "nbconvert_exporter": "python",
   "pygments_lexer": "ipython3",
   "version": "3.10.11"
  },
  "orig_nbformat": 4
 },
 "nbformat": 4,
 "nbformat_minor": 2
}
