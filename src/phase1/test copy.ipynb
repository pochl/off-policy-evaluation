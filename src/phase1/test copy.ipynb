{
 "cells": [
  {
   "cell_type": "code",
   "execution_count": 32,
   "metadata": {},
   "outputs": [],
   "source": [
    "import numpy as np\n",
    "from obp.dataset import logistic_reward_function\n",
    "from obp.dataset import SyntheticBanditDatasetWithActionEmbeds, SyntheticBanditDataset\n",
    "from obp.ope import InverseProbabilityWeighting as IPS\n",
    "from obp.ope import SelfNormalizedInverseProbabilityWeighting as SNIPS\n",
    "from obp.ope import ImportanceWeightEstimator\n",
    "from tqdm import tqdm \n",
    "from sklearn.neural_network import MLPClassifier\n",
    "\n",
    "from obp.ope import OffPolicyEvaluation\n",
    "from obp.ope import BalancedInverseProbabilityWeighting as BIPW\n",
    "from obp.ope import ImportanceWeightEstimator\n",
    "from obp.ope import SelfNormalizedMarginalizedInverseProbabilityWeighting as SMIPS\n",
    "from obp.utils import sample_action_fast\n",
    "\n",
    "from src.custom_estimators import NaiveMethod as NM\n",
    "from src.custom_estimators import RECAP\n",
    "\n",
    "import pandas as pd\n",
    "from sklearn.preprocessing import StandardScaler\n",
    "from policy import gen_eps_greedy\n",
    "import matplotlib.pyplot as plt\n",
    "\n",
    "from src.utils import read_yaml"
   ]
  },
  {
   "cell_type": "code",
   "execution_count": 33,
   "metadata": {},
   "outputs": [],
   "source": [
    "random_state = 5\n",
    "cfg = read_yaml('src/phase1/config.yaml')\n",
    "\n",
    "# dataset = SyntheticBanditDatasetWithActionEmbeds(\n",
    "#     n_actions=cfg['n_actions'],\n",
    "#     dim_context=cfg['dim_context'],\n",
    "#     beta=cfg['beta'],\n",
    "#     reward_type=\"binary\",\n",
    "#     n_cat_per_dim=cfg['n_cat_per_dim'],\n",
    "#     latent_param_mat_dim=cfg['latent_param_mat_dim'],\n",
    "#     n_cat_dim=cfg['n_cat_dim'],\n",
    "#     n_unobserved_cat_dim=cfg['n_unobserved_cat_dim'],\n",
    "#     n_deficient_actions=int(cfg['n_actions'] * cfg['n_def_actions']),\n",
    "#     reward_function=logistic_reward_function,\n",
    "#     reward_std=cfg['reward_std'],\n",
    "#     random_state=random_state,\n",
    "# )\n",
    "\n",
    "np.random.seed(random_state)\n",
    "action_context = np.random.normal(size=(cfg['n_actions'], cfg['latent_param_mat_dim']))\n",
    "\n",
    "dataset = SyntheticBanditDataset(\n",
    "    n_actions=cfg['n_actions'],\n",
    "    dim_context=cfg['dim_context'],\n",
    "    action_context=action_context,\n",
    "    beta=cfg['beta'],\n",
    "    reward_type=\"binary\",\n",
    "    n_deficient_actions=int(cfg['n_actions'] * cfg['n_def_actions']),\n",
    "    reward_function=logistic_reward_function,\n",
    "    reward_std=cfg['reward_std'],\n",
    "    random_state=random_state,\n",
    ")\n",
    "\n",
    "\n",
    "val_bandit_data = dataset.obtain_batch_bandit_feedback(\n",
    "            n_rounds=cfg['n_val_data'],\n",
    "        )\n",
    "\n",
    "action_dist_val = gen_eps_greedy(\n",
    "    expected_reward=val_bandit_data[\"expected_reward\"],\n",
    "    is_optimal=cfg['is_optimal'],\n",
    "    eps=cfg['eps'],\n",
    ")\n",
    "\n",
    "pol_val = dataset.calc_ground_truth_policy_value(\n",
    "    expected_reward=val_bandit_data[\"expected_reward\"],\n",
    "    action_dist=action_dist_val,\n",
    ")\n",
    "\n",
    "scaler = StandardScaler()\n",
    "action_context_t = scaler.fit_transform(val_bandit_data[\"action_context\"])\n",
    "\n",
    "model = MLPClassifier(hidden_layer_sizes=(32,32))\n",
    "model = MLPClassifier(hidden_layer_sizes=(32,32,32), activation='relu', max_iter=400)\n",
    "iw_estimator = ImportanceWeightEstimator(base_model=model,\n",
    "                                        n_actions=val_bandit_data[\"n_actions\"], \n",
    "                                        action_context=action_context_t)\n",
    "\n",
    "\n",
    "\n",
    "position = np.zeros_like(val_bandit_data[\"action\"])\n",
    "\n",
    "sampled_action = sample_action_fast(action_dist_val[:,:,0], 1234)\n",
    "\n",
    "for pos_ in np.arange(iw_estimator.len_list):\n",
    "    idx = position == pos_\n",
    "    action_dist_at_pos = action_dist_val[idx][:, :, pos_]\n",
    "    X, y = iw_estimator._pre_process_for_clf_model(\n",
    "        context=val_bandit_data[\"context\"][idx],\n",
    "        action=val_bandit_data[\"action\"][idx],\n",
    "        action_dist_at_pos=action_dist_at_pos,\n",
    "        sampled_action_at_position=sampled_action[idx],\n",
    "    )\n",
    "\n",
    "X1 = X[:int(len(X)/2)]\n",
    "X2 = X[int(len(X)/2):]\n",
    "\n",
    "np.save('data/x_log.npy', X1)\n",
    "np.save('data/x_tar.npy', X2)"
   ]
  },
  {
   "cell_type": "code",
   "execution_count": 36,
   "metadata": {},
   "outputs": [
    {
     "name": "stdout",
     "output_type": "stream",
     "text": [
      "validation score: 0.8741666666666666\n",
      "validation score: 0.8855555555555555\n",
      "validation score: 0.89\n",
      "validation score: 0.8936111111111111\n",
      "validation score: 0.8966666666666666\n",
      "validation score: 0.8980555555555556\n",
      "validation score: 0.8991666666666667\n",
      "validation score: 0.8963888888888889\n",
      "validation score: 0.8991666666666667\n",
      "validation score: 0.8983333333333333\n"
     ]
    }
   ],
   "source": [
    "from src.libs.dataclass import TwoTowerDataset\n",
    "from src.libs.utils import prepare_cls_data\n",
    "from src.libs.classification import Classifier\n",
    "from src.models.mlp import TwoTowerClassifier, MLPClassifier\n",
    "\n",
    "context, action_emb, target = prepare_cls_data(val_bandit_data['context'],\n",
    "                                               val_bandit_data['action_context'],\n",
    "                                               val_bandit_data['action'],\n",
    "                                               action_dist_val)\n",
    "\n",
    "\n",
    "model = MLPClassifier(cfg['dim_context'], cfg['latent_param_mat_dim'], 32)\n",
    "\n",
    "clstrainer = Classifier(val_bandit_data, action_dist_val, model, 10, verbose=True)\n",
    "\n",
    "clstrainer.train()\n",
    "\n",
    "probs = clstrainer.predict()\n",
    "imp_weights = probs / (1-probs)\n",
    "imp_weights = imp_weights / imp_weights.mean()\n",
    "# imp_weights = np.minimum(imp_weights, 10)\n"
   ]
  },
  {
   "cell_type": "code",
   "execution_count": 37,
   "metadata": {},
   "outputs": [
    {
     "data": {
      "text/plain": [
       "0.99999845"
      ]
     },
     "execution_count": 37,
     "metadata": {},
     "output_type": "execute_result"
    }
   ],
   "source": [
    "max(probs)"
   ]
  },
  {
   "cell_type": "code",
   "execution_count": 35,
   "metadata": {},
   "outputs": [
    {
     "name": "stdout",
     "output_type": "stream",
     "text": [
      "{'NM': 0.04755, 'SNIPS': 0.4451017407006636, 'BIPW': 0.7145250197367237, 'true_val': 0.8418241233318673}\n"
     ]
    }
   ],
   "source": [
    "result = []\n",
    "val_bandit_data[\"action_embed\"] = val_bandit_data['action_context'][val_bandit_data['action']]\n",
    "\n",
    "# imp_weights_x = iw_estimator.fit_predict(context=val_bandit_data[\"context\"],\n",
    "#                                         action=val_bandit_data[\"action\"],\n",
    "#                                         action_dist=action_dist_val,\n",
    "#                                         random_state=random_state)   \n",
    "        \n",
    "ope_estimators = [\n",
    "            NM(estimator_name='NM'),\n",
    "            SNIPS(estimator_name=\"SNIPS\"),\n",
    "            # SMIPS(\n",
    "            #     n_actions=val_bandit_data[\"n_actions\"],\n",
    "            #     embedding_selection_method=None,\n",
    "            #     estimator_name=\"SMIPS\",\n",
    "            # ),\n",
    "            BIPW(\n",
    "                estimator_name=\"BIPW\"\n",
    "            ),\n",
    "]\n",
    "\n",
    "ope = OffPolicyEvaluation(\n",
    "        bandit_feedback=val_bandit_data,\n",
    "        ope_estimators=ope_estimators,\n",
    "    )\n",
    "\n",
    "estimated_policy_values = ope.estimate_policy_values(\n",
    "    action_dist=action_dist_val,\n",
    "    estimated_importance_weights=imp_weights,  #########################\n",
    "    action_embed=val_bandit_data[\"action_embed\"],\n",
    "    pi_b=val_bandit_data[\"pi_b\"],\n",
    "    # p_e_a={\"MIPS (true)\": val_bandit_data[\"p_e_a\"]},\n",
    ")\n",
    "\n",
    "estimated_policy_values['true_val'] = pol_val\n",
    "\n",
    "print(estimated_policy_values)\n",
    "result.append(estimated_policy_values)"
   ]
  },
  {
   "cell_type": "code",
   "execution_count": 187,
   "metadata": {},
   "outputs": [
    {
     "data": {
      "text/plain": [
       "[{'NM': 0.05064,\n",
       "  'IPS': 0.04694369471995467,\n",
       "  'BIPW': 0.2406637723795753,\n",
       "  'true_val': 0.9473453862539168,\n",
       "  'BIPW_': 6.127136888933424e-05}]"
      ]
     },
     "execution_count": 187,
     "metadata": {},
     "output_type": "execute_result"
    }
   ],
   "source": [
    "result"
   ]
  },
  {
   "cell_type": "code",
   "execution_count": 164,
   "metadata": {},
   "outputs": [
    {
     "data": {
      "text/plain": [
       "{701}"
      ]
     },
     "execution_count": 164,
     "metadata": {},
     "output_type": "execute_result"
    }
   ],
   "source": [
    "set(np.argmax(val_bandit_data[\"expected_reward\"], axis=1))"
   ]
  },
  {
   "cell_type": "code",
   "execution_count": null,
   "metadata": {},
   "outputs": [],
   "source": [
    "\n",
    "for i in range(cfg['n_actions']):\n",
    "    r = val_bandit_data[\"pi_b\"][:,:,0][2][val_bandit_data['action_context'].flatten() == i]\n",
    "    plt.hist(r, alpha=0.5)\n",
    "    plt.plot()"
   ]
  },
  {
   "cell_type": "code",
   "execution_count": 46,
   "metadata": {},
   "outputs": [
    {
     "data": {
      "text/plain": [
       "array([96, 99, 46, 90, 74, 75, 30, 35, 38, 58, 67, 75, 36, 90, 94, 16, 56,\n",
       "       11, 78, 78, 67, 80, 91, 13, 76, 20, 93, 19, 63, 11, 44, 26, 37, 41,\n",
       "       20, 91, 40, 74, 67, 77, 59, 42, 63, 50, 48, 48, 13, 97, 93, 63, 95,\n",
       "       20, 45, 39, 27, 31, 80, 80, 14, 40, 76, 38, 37, 16, 79, 23, 86, 25,\n",
       "       52, 82, 17, 33, 63, 46, 96, 15, 22, 77, 47, 10, 83, 66, 94, 51, 57,\n",
       "       38, 15,  1, 97, 59, 24,  0, 17, 40, 45, 49, 63, 45,  7, 87])"
      ]
     },
     "execution_count": 46,
     "metadata": {},
     "output_type": "execute_result"
    }
   ],
   "source": [
    "val_bandit_data['action_context'].flatten()"
   ]
  },
  {
   "cell_type": "code",
   "execution_count": 165,
   "metadata": {},
   "outputs": [
    {
     "data": {
      "text/plain": [
       "<matplotlib.collections.PathCollection at 0x1657ef1c0>"
      ]
     },
     "execution_count": 165,
     "metadata": {},
     "output_type": "execute_result"
    },
    {
     "data": {
      "image/png": "[encoded data removed]",
      "text/plain": [
       "<Figure size 640x480 with 1 Axes>"
      ]
     },
     "metadata": {},
     "output_type": "display_data"
    }
   ],
   "source": [
    "plt.scatter(X1[:, 0], X1[:, 1], alpha=0.5)\n",
    "plt.scatter(X2[:, 0], X2[:, 1], alpha=0.5)"
   ]
  },
  {
   "cell_type": "code",
   "execution_count": 143,
   "metadata": {},
   "outputs": [
    {
     "data": {
      "text/plain": [
       "<matplotlib.collections.PathCollection at 0x16c6e2050>"
      ]
     },
     "execution_count": 143,
     "metadata": {},
     "output_type": "execute_result"
    },
    {
     "data": {
      "image/png": "[encoded data removed]",
      "text/plain": [
       "<Figure size 640x480 with 1 Axes>"
      ]
     },
     "metadata": {},
     "output_type": "display_data"
    }
   ],
   "source": [
    "Z1 = np.load('/Users/thepoch/projects/f-dre/poch/data/encodings/custom/maf_biased_z.npy')\n",
    "Z2 = np.load('/Users/thepoch/projects/f-dre/poch/data/encodings/custom/maf_ref_z.npy')\n",
    "\n",
    "plt.scatter(Z1[:, 0], Z1[:, 1])\n",
    "plt.scatter(Z2[:, 0], Z2[:, 1])"
   ]
  },
  {
   "cell_type": "code",
   "execution_count": 127,
   "metadata": {},
   "outputs": [
    {
     "data": {
      "text/plain": [
       "1000"
      ]
     },
     "execution_count": 127,
     "metadata": {},
     "output_type": "execute_result"
    }
   ],
   "source": [
    "len(val_bandit_data['action_context'])"
   ]
  },
  {
   "cell_type": "code",
   "execution_count": 188,
   "metadata": {},
   "outputs": [
    {
     "data": {
      "text/plain": [
       "array([[ 0.44122749, -0.33087015,  2.43077119, ..., -0.59163666,\n",
       "         0.18760323, -0.32986996],\n",
       "       [-1.19276461, -0.20487651, -0.35882895, ...,  1.85733101,\n",
       "        -1.51117956,  0.64484751],\n",
       "       [-0.98060789, -0.85685315, -0.87187918, ..., -0.36331088,\n",
       "         0.00328884, -0.10593044],\n",
       "       ...,\n",
       "       [-0.28829758, -0.23931692,  1.41225087, ...,  0.25485418,\n",
       "        -0.87883071, -0.55311421],\n",
       "       [ 0.80180082, -1.97137816,  0.56385018, ...,  0.00250988,\n",
       "        -0.26067216, -1.24324752],\n",
       "       [ 1.37538983,  0.73235714,  0.22472431, ...,  1.62032864,\n",
       "         0.32752551,  1.36838115]])"
      ]
     },
     "execution_count": 188,
     "metadata": {},
     "output_type": "execute_result"
    }
   ],
   "source": [
    "val_bandit_data['action_context']"
   ]
  },
  {
   "cell_type": "code",
   "execution_count": null,
   "metadata": {},
   "outputs": [],
   "source": []
  }
 ],
 "metadata": {
  "kernelspec": {
   "display_name": "ope",
   "language": "python",
   "name": "python3"
  },
  "language_info": {
   "codemirror_mode": {
    "name": "ipython",
    "version": 3
   },
   "file_extension": ".py",
   "mimetype": "text/x-python",
   "name": "python",
   "nbconvert_exporter": "python",
   "pygments_lexer": "ipython3",
   "version": "3.10.11"
  },
  "orig_nbformat": 4
 },
 "nbformat": 4,
 "nbformat_minor": 2
}
