{
 "cells": [
  {
   "cell_type": "code",
   "execution_count": 17,
   "metadata": {},
   "outputs": [],
   "source": [
    "import numpy as np\n",
    "from obp.dataset import logistic_reward_function\n",
    "from obp.dataset import SyntheticBanditDataset\n",
    "from obp.ope import SelfNormalizedInverseProbabilityWeighting as SNIPS\n",
    "from obp.ope import SelfNormalizedMarginalizedInverseProbabilityWeighting as SMIPS\n",
    "from obp.ope import InverseProbabilityWeighting as IPS\n",
    "import pandas as pd\n",
    "from policy import gen_eps_greedy\n",
    "\n",
    "from src.libs.utils import prepare_cls_data\n",
    "from src.libs.classification import Classifier\n",
    "from src.models.mlp import TwoTowerClassifier, MLPClassifier\n",
    "\n",
    "from src.utils import read_yaml\n",
    "\n",
    "from tqdm import tqdm \n",
    "\n",
    "from obp.ope import OffPolicyEvaluation\n",
    "from obp.ope import BalancedInverseProbabilityWeighting as BIPW\n",
    "from obp.utils import sample_action_fast\n",
    "\n",
    "from src.custom_estimators import NaiveMethod as NM\n",
    "from src.models.obp import Policy, softmax_from_reward, greedy, content_based_filtering\n",
    "\n",
    "from functools import partial\n",
    "from copy import deepcopy\n",
    "\n",
    "import time\n",
    "from datetime import datetime\n",
    "\n",
    "import os\n",
    "import shutil"
   ]
  },
  {
   "cell_type": "code",
   "execution_count": 18,
   "metadata": {},
   "outputs": [
    {
     "data": {
      "text/plain": [
       "{'n_round': 10000,\n",
       " 'n_actions': 500,\n",
       " 'dim_context': 5,\n",
       " 'dim_context_unobserved': 0,\n",
       " 'dim_action': 20,\n",
       " 'dim_action_unobserved': 5,\n",
       " 'beta_log': -5,\n",
       " 'reward_std': 2.5,\n",
       " 'n_def_actions': 0,\n",
       " 'random_state': 12345,\n",
       " 'n_bootstrap_set': 10,\n",
       " 'bootstrap_set_size': 2000}"
      ]
     },
     "execution_count": 18,
     "metadata": {},
     "output_type": "execute_result"
    }
   ],
   "source": [
    "cfg_path = 'src/phase1/config.yaml'\n",
    "cfg = read_yaml(cfg_path)\n",
    "\n",
    "random_state = cfg['random_state']\n",
    "np.random.seed(random_state)\n",
    "\n",
    "cfg"
   ]
  },
  {
   "cell_type": "code",
   "execution_count": 19,
   "metadata": {},
   "outputs": [
    {
     "data": {
      "text/plain": [
       "'experiments/20231223131520/config.yaml'"
      ]
     },
     "execution_count": 19,
     "metadata": {},
     "output_type": "execute_result"
    }
   ],
   "source": [
    "current_timestamp = time.time()\n",
    "current_datetime = datetime.fromtimestamp(current_timestamp)\n",
    "exp_name = current_datetime.strftime(\"%Y%m%d%H%M%S\")\n",
    "\n",
    "os.makedirs('experiments/' + exp_name)\n",
    "shutil.copy2(cfg_path, 'experiments/' + exp_name)\n"
   ]
  },
  {
   "cell_type": "code",
   "execution_count": 20,
   "metadata": {},
   "outputs": [],
   "source": [
    "def bootstrap_bandit(bandit_data, n_set, set_size, random_state):\n",
    "\n",
    "    np.random.seed(random_state)\n",
    "\n",
    "    idxs = np.arange(bandit_data['n_rounds'])\n",
    "    bootstrap_sets = []\n",
    "    for i in range(n_set):\n",
    "        sample_idx = np.random.choice(idxs, set_size)\n",
    "\n",
    "        bandit_data_ = {}\n",
    "\n",
    "        bandit_data_['n_rounds'] = set_size\n",
    "        bandit_data_['n_actions'] = bandit_data['n_actions']\n",
    "        bandit_data_['action_context'] = bandit_data['action_context']\n",
    "\n",
    "        keys = ['context', 'action', 'position', 'reward', \n",
    "                'expected_reward', 'pi_b', 'pscore']\n",
    "        \n",
    "        for key in keys:\n",
    "            if bandit_data[key] is not None:\n",
    "                bandit_data_[key] = bandit_data[key][sample_idx]\n",
    "            else:\n",
    "                bandit_data_[key] = None\n",
    "\n",
    "\n",
    "        bootstrap_sets.append(bandit_data_)\n",
    "\n",
    "    return bootstrap_sets"
   ]
  },
  {
   "cell_type": "code",
   "execution_count": 21,
   "metadata": {},
   "outputs": [
    {
     "name": "stderr",
     "output_type": "stream",
     "text": [
      "100%|██████████| 10/10 [20:23<00:00, 122.36s/it]\n"
     ]
    }
   ],
   "source": [
    "\n",
    "\n",
    "result = []\n",
    "\n",
    "action_context = np.random.normal(size=(cfg['n_actions'], cfg['dim_action']))\n",
    "dataset = SyntheticBanditDataset(\n",
    "    n_actions=cfg['n_actions'],\n",
    "    dim_context=cfg['dim_context'],\n",
    "    action_context=action_context,\n",
    "    beta=cfg['beta_log'],\n",
    "    reward_type=\"binary\",\n",
    "    n_deficient_actions=int(cfg['n_actions'] * cfg['n_def_actions']),\n",
    "    reward_function=logistic_reward_function,\n",
    "    reward_std=cfg['reward_std'],\n",
    "    random_state=random_state,\n",
    ")\n",
    "\n",
    "bandit_data = dataset.obtain_batch_bandit_feedback(\n",
    "    n_rounds=cfg['n_round'],\n",
    ")\n",
    "\n",
    "bandit_datas = bootstrap_bandit(bandit_data, cfg['n_bootstrap_set'], cfg['bootstrap_set_size'], random_state)\n",
    "\n",
    "policies = [\n",
    "    {'func': softmax_from_reward, 'kwargs': {'beta': -1}},\n",
    "    {'func': softmax_from_reward, 'kwargs': {'beta': 5}},\n",
    "    {'func': greedy, 'kwargs': {'beta': 0.2}},\n",
    "    {'func': greedy, 'kwargs': {'beta': 0.6}},\n",
    "    {'func': content_based_filtering, 'kwargs': {}},\n",
    "]\n",
    "\n",
    "for trial, bandit_data_bs in tqdm(enumerate(bandit_datas), total=len(bandit_datas)):\n",
    "\n",
    "    bandit_data_bs['context_obs'] = bandit_data_bs['context'][:, :cfg['dim_context'] - cfg['dim_context_unobserved']]\n",
    "    bandit_data_bs['action_context_obs'] = bandit_data_bs['action_context'][:, :cfg['dim_action'] - cfg['dim_action_unobserved']]\n",
    "    bandit_data_bs[\"action_embed\"] = bandit_data_bs['action_context'][bandit_data_bs['action']]\n",
    "    bandit_data_bs[\"action_embed_obs\"] = bandit_data_bs['action_context_obs'][bandit_data_bs['action']]\n",
    "\n",
    "    for policy in policies:\n",
    "\n",
    "        pol_func = policy['func']\n",
    "        kwargs = policy['kwargs']\n",
    "\n",
    "        # action_dist_tar = gen_eps_greedy(\n",
    "        #     expected_reward=bandit_data_bs[\"expected_reward\"],\n",
    "        #     is_optimal=True,\n",
    "        #     eps=beta,\n",
    "        # )\n",
    "\n",
    "        # target_policy = Policy(n_actions=dataset.n_actions, model=None, bandit_feedback=bandit_data_bs, beta=beta)\n",
    "        # action_dist_tar = target_policy.predict_proba(bandit_data_bs['context'], tau=1)\n",
    "\n",
    "        pol_str = pol_func.__name__ +'_' + '_'.join([k+'='+str(v) for k, v in kwargs.items()])\n",
    "\n",
    "        kwargs_ = deepcopy(kwargs)\n",
    "        kwargs_['bandit_data'] = bandit_data_bs \n",
    "        action_dist_tar = pol_func(**kwargs_)\n",
    "\n",
    "        action_tar = sample_action_fast(action_dist_tar[:,:,0], 1234)\n",
    "\n",
    "        pol_val = dataset.calc_ground_truth_policy_value(\n",
    "            expected_reward=bandit_data_bs[\"expected_reward\"],\n",
    "            action_dist=action_dist_tar,\n",
    "        )\n",
    "\n",
    "        \n",
    "\n",
    "        model = MLPClassifier(bandit_data_bs['context_obs'].shape[1], \n",
    "                              bandit_data_bs['action_context_obs'].shape[1], \n",
    "                              32)\n",
    "        # model = TwoTowerClassifier(cfg['dim_context'], cfg['latent_param_mat_dim'], 32)\n",
    "\n",
    "        clstrainer = Classifier(bandit_data_bs, action_tar, model, 10, verbose=False)\n",
    "\n",
    "        X = np.hstack([clstrainer.context, clstrainer.action_emb])\n",
    "        X_log, X_tar = np.split(X, 2)\n",
    "\n",
    "        clstrainer.train()\n",
    "\n",
    "        probs = clstrainer.predict()\n",
    "        imp_weights = probs / (1-probs)\n",
    "        imp_weights = imp_weights / imp_weights.mean()\n",
    "        # imp_weights = np.minimum(imp_weights, 10000)\n",
    "\n",
    "        \n",
    "        ope_estimators = [\n",
    "                    NM(estimator_name='NM'),\n",
    "                    SNIPS(estimator_name=\"SNIPS\"),\n",
    "                    IPS(estimator_name=\"IPS\"),\n",
    "                    SMIPS(\n",
    "                        n_actions=bandit_data_bs[\"n_actions\"],\n",
    "                        estimator_name=\"SMIPS\"\n",
    "                    ),\n",
    "                    BIPW(\n",
    "                        estimator_name=\"BIPW\"\n",
    "                    ),\n",
    "                    # RECAP(estimator_name=\"RECAP\")\n",
    "        ]\n",
    "\n",
    "        ope = OffPolicyEvaluation(\n",
    "                bandit_feedback=bandit_data_bs,\n",
    "                ope_estimators=ope_estimators,\n",
    "            )\n",
    "\n",
    "        estimated_policy_values = ope.estimate_policy_values(\n",
    "            action_dist=action_dist_tar,\n",
    "            estimated_importance_weights=imp_weights,  #########################\n",
    "            action_embed=bandit_data_bs[\"action_embed_obs\"],\n",
    "            pi_b=bandit_data_bs[\"pi_b\"]\n",
    "        )\n",
    "\n",
    "        estimated_policy_values['true_val'] = pol_val\n",
    "        estimated_policy_values['policy'] = pol_str\n",
    "        estimated_policy_values['trial'] = trial\n",
    "        #print(estimated_policy_values)\n",
    "\n",
    "        # print(estimated_policy_values)\n",
    "        result.append(estimated_policy_values)\n"
   ]
  },
  {
   "cell_type": "code",
   "execution_count": 22,
   "metadata": {},
   "outputs": [
    {
     "name": "stdout",
     "output_type": "stream",
     "text": [
      "                                   NM     SNIPS       IPS     SMIPS      BIPW  \\\n",
      "policy                                                                          \n",
      "content_based_filtering_     0.001200  0.751085  0.771165  0.338751  0.239269   \n",
      "greedy_beta=0.2              0.002040  0.536719  1.155162  0.277928  0.203077   \n",
      "greedy_beta=0.6              0.001940  0.515859  0.444143  0.227236  0.127161   \n",
      "softmax_from_reward_beta=-1  0.002010  0.580182  0.556084  0.272222  0.145314   \n",
      "softmax_from_reward_beta=5   0.001937  0.588232  0.572887  0.273088  0.135764   \n",
      "\n",
      "                             true_val  trial  \n",
      "policy                                        \n",
      "content_based_filtering_     0.725371    4.5  \n",
      "greedy_beta=0.2              0.596892    4.5  \n",
      "greedy_beta=0.6              0.582052    4.5  \n",
      "softmax_from_reward_beta=-1  0.582756    4.5  \n",
      "softmax_from_reward_beta=5   0.596086    4.5  \n",
      "                                       NM     SNIPS       IPS     SMIPS  \\\n",
      "policy                                                                    \n",
      "content_based_filtering_     9.561258e-09  0.002244  0.034177  0.002573   \n",
      "greedy_beta=0.2              6.915556e-07  0.094021  2.764583  0.050480   \n",
      "greedy_beta=0.6              1.160000e-07  0.013854  0.122271  0.007296   \n",
      "softmax_from_reward_beta=-1  8.223737e-09  0.001959  0.009494  0.000951   \n",
      "softmax_from_reward_beta=5   4.511454e-08  0.003945  0.018571  0.001917   \n",
      "\n",
      "                                 BIPW  true_val     trial  \n",
      "policy                                                     \n",
      "content_based_filtering_     0.001482  0.000292  9.166667  \n",
      "greedy_beta=0.2              0.031523  0.010228  9.166667  \n",
      "greedy_beta=0.6              0.001126  0.001498  9.166667  \n",
      "softmax_from_reward_beta=-1  0.000362  0.000234  9.166667  \n",
      "softmax_from_reward_beta=5   0.000169  0.000871  9.166667  \n"
     ]
    }
   ],
   "source": [
    "result_df = pd.DataFrame(result)\n",
    "result_df.to_csv('experiments/' + exp_name + '/result.csv')\n",
    "\n",
    "result_by_pol = result_df.groupby('policy').mean()\n",
    "print(result_by_pol)\n",
    "print(result_df.groupby('policy').var())"
   ]
  },
  {
   "cell_type": "code",
   "execution_count": 23,
   "metadata": {},
   "outputs": [
    {
     "data": {
      "image/png": "[encoded data removed]",
      "text/plain": [
       "<Figure size 1500x500 with 3 Axes>"
      ]
     },
     "metadata": {},
     "output_type": "display_data"
    }
   ],
   "source": [
    "import matplotlib.pyplot as plt \n",
    "\n",
    "pols2plot = ['SNIPS', 'SMIPS', 'BIPW']\n",
    "colors = ['b', 'r', 'g']\n",
    "\n",
    "fig, axs = plt.subplots(1, len(pols2plot), figsize=(5*len(pols2plot), 5), constrained_layout=True)\n",
    "\n",
    "for i, pol in enumerate(pols2plot):\n",
    "\n",
    "    axs[i].plot([0,1], [0,1], ':', c='k')\n",
    "    axs[i].scatter(result_by_pol['true_val'], result_by_pol[pol], c=colors[i])\n",
    "    axs[i].set_xlim(0,1)\n",
    "    axs[i].set_ylim(0,1)\n",
    "    axs[i].set_title(pol)\n",
    "\n",
    "fig.supxlabel('Online')\n",
    "fig.supylabel('Offline')\n",
    "plt.show()\n",
    "\n",
    "fig.savefig('experiments/' + exp_name + '/online-offline_plot.png')"
   ]
  },
  {
   "cell_type": "code",
   "execution_count": null,
   "metadata": {},
   "outputs": [],
   "source": []
  }
 ],
 "metadata": {
  "kernelspec": {
   "display_name": "ope",
   "language": "python",
   "name": "python3"
  },
  "language_info": {
   "codemirror_mode": {
    "name": "ipython",
    "version": 3
   },
   "file_extension": ".py",
   "mimetype": "text/x-python",
   "name": "python",
   "nbconvert_exporter": "python",
   "pygments_lexer": "ipython3",
   "version": "3.10.11"
  },
  "orig_nbformat": 4
 },
 "nbformat": 4,
 "nbformat_minor": 2
}
